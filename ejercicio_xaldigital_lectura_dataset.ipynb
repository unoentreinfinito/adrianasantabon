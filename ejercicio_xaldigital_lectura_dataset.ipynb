{
  "nbformat": 4,
  "nbformat_minor": 0,
  "metadata": {
    "colab": {
      "provenance": []
    },
    "kernelspec": {
      "name": "python3",
      "display_name": "Python 3"
    },
    "language_info": {
      "name": "python"
    }
  },
  "cells": [
    {
      "cell_type": "code",
      "execution_count": 1,
      "metadata": {
        "id": "qI3HxyoVbWQO",
        "colab": {
          "base_uri": "https://localhost:8080/"
        },
        "outputId": "1fe52319-603e-4314-e627-919261d21ce9"
      },
      "outputs": [
        {
          "output_type": "stream",
          "name": "stderr",
          "text": [
            "<ipython-input-1-8710f9ea38c3>:4: DtypeWarning: Columns (3) have mixed types. Specify dtype option on import or set low_memory=False.\n",
            "  data = pd.read_csv(file_path, delimiter=';', header=None )\n"
          ]
        }
      ],
      "source": [
        "#cargar datos\n",
        "import pandas as pd\n",
        "file_path = \"/content/drive/MyDrive/Colab_Notebooks/data/POC_DQX_2.csv\"\n",
        "data = pd.read_csv(file_path, delimiter=';', header=None )\n",
        "\n",
        "\n"
      ]
    },
    {
      "cell_type": "code",
      "source": [
        "data"
      ],
      "metadata": {
        "colab": {
          "base_uri": "https://localhost:8080/",
          "height": 423
        },
        "id": "nGLJMx_i0-DM",
        "outputId": "961880a4-ddd7-4554-b046-4fcfa851c5e7"
      },
      "execution_count": 2,
      "outputs": [
        {
          "output_type": "execute_result",
          "data": {
            "text/plain": [
              "                               0                        1  2         3\n",
              "0           ETH_L2_AirCo_Pro_Tot  2022-12-31 04:09:13.000  0         0\n",
              "1           ETH_L2_AirCo_Pro_Tot  2023-01-02 17:35:08.000  0         1\n",
              "2           ETH_L2_AirCo_Pro_Tot  2023-01-02 17:35:09.000  0         3\n",
              "3           ETH_L2_AirCo_Pro_Tot  2023-01-02 17:35:10.000  0         5\n",
              "4           ETH_L2_AirCo_Pro_Tot  2023-01-02 17:35:18.000  0         6\n",
              "...                          ...                      ... ..       ...\n",
              "14847647  ETH2_L2_LAVG_TT001_TQ2  2023-01-19 23:59:48.000  0  57,69676\n",
              "14847648  ETH2_L2_LAVG_TT001_TQ2  2023-01-19 23:59:55.000  0  57,69314\n",
              "14847649  ETH2_L2_LAVG_TT001_TQ2  2023-01-19 23:59:56.000  0  57,69676\n",
              "14847650  ETH2_L2_LAVG_TT001_TQ2  2023-01-19 23:59:57.000  0  57,69314\n",
              "14847651  ETH2_L2_LAVG_TT001_TQ2  2023-01-20 00:00:01.000  0  57,69676\n",
              "\n",
              "[14847652 rows x 4 columns]"
            ],
            "text/html": [
              "\n",
              "  <div id=\"df-c925b4f6-337d-433c-82fc-18a2086c9287\">\n",
              "    <div class=\"colab-df-container\">\n",
              "      <div>\n",
              "<style scoped>\n",
              "    .dataframe tbody tr th:only-of-type {\n",
              "        vertical-align: middle;\n",
              "    }\n",
              "\n",
              "    .dataframe tbody tr th {\n",
              "        vertical-align: top;\n",
              "    }\n",
              "\n",
              "    .dataframe thead th {\n",
              "        text-align: right;\n",
              "    }\n",
              "</style>\n",
              "<table border=\"1\" class=\"dataframe\">\n",
              "  <thead>\n",
              "    <tr style=\"text-align: right;\">\n",
              "      <th></th>\n",
              "      <th>0</th>\n",
              "      <th>1</th>\n",
              "      <th>2</th>\n",
              "      <th>3</th>\n",
              "    </tr>\n",
              "  </thead>\n",
              "  <tbody>\n",
              "    <tr>\n",
              "      <th>0</th>\n",
              "      <td>ETH_L2_AirCo_Pro_Tot</td>\n",
              "      <td>2022-12-31 04:09:13.000</td>\n",
              "      <td>0</td>\n",
              "      <td>0</td>\n",
              "    </tr>\n",
              "    <tr>\n",
              "      <th>1</th>\n",
              "      <td>ETH_L2_AirCo_Pro_Tot</td>\n",
              "      <td>2023-01-02 17:35:08.000</td>\n",
              "      <td>0</td>\n",
              "      <td>1</td>\n",
              "    </tr>\n",
              "    <tr>\n",
              "      <th>2</th>\n",
              "      <td>ETH_L2_AirCo_Pro_Tot</td>\n",
              "      <td>2023-01-02 17:35:09.000</td>\n",
              "      <td>0</td>\n",
              "      <td>3</td>\n",
              "    </tr>\n",
              "    <tr>\n",
              "      <th>3</th>\n",
              "      <td>ETH_L2_AirCo_Pro_Tot</td>\n",
              "      <td>2023-01-02 17:35:10.000</td>\n",
              "      <td>0</td>\n",
              "      <td>5</td>\n",
              "    </tr>\n",
              "    <tr>\n",
              "      <th>4</th>\n",
              "      <td>ETH_L2_AirCo_Pro_Tot</td>\n",
              "      <td>2023-01-02 17:35:18.000</td>\n",
              "      <td>0</td>\n",
              "      <td>6</td>\n",
              "    </tr>\n",
              "    <tr>\n",
              "      <th>...</th>\n",
              "      <td>...</td>\n",
              "      <td>...</td>\n",
              "      <td>...</td>\n",
              "      <td>...</td>\n",
              "    </tr>\n",
              "    <tr>\n",
              "      <th>14847647</th>\n",
              "      <td>ETH2_L2_LAVG_TT001_TQ2</td>\n",
              "      <td>2023-01-19 23:59:48.000</td>\n",
              "      <td>0</td>\n",
              "      <td>57,69676</td>\n",
              "    </tr>\n",
              "    <tr>\n",
              "      <th>14847648</th>\n",
              "      <td>ETH2_L2_LAVG_TT001_TQ2</td>\n",
              "      <td>2023-01-19 23:59:55.000</td>\n",
              "      <td>0</td>\n",
              "      <td>57,69314</td>\n",
              "    </tr>\n",
              "    <tr>\n",
              "      <th>14847649</th>\n",
              "      <td>ETH2_L2_LAVG_TT001_TQ2</td>\n",
              "      <td>2023-01-19 23:59:56.000</td>\n",
              "      <td>0</td>\n",
              "      <td>57,69676</td>\n",
              "    </tr>\n",
              "    <tr>\n",
              "      <th>14847650</th>\n",
              "      <td>ETH2_L2_LAVG_TT001_TQ2</td>\n",
              "      <td>2023-01-19 23:59:57.000</td>\n",
              "      <td>0</td>\n",
              "      <td>57,69314</td>\n",
              "    </tr>\n",
              "    <tr>\n",
              "      <th>14847651</th>\n",
              "      <td>ETH2_L2_LAVG_TT001_TQ2</td>\n",
              "      <td>2023-01-20 00:00:01.000</td>\n",
              "      <td>0</td>\n",
              "      <td>57,69676</td>\n",
              "    </tr>\n",
              "  </tbody>\n",
              "</table>\n",
              "<p>14847652 rows × 4 columns</p>\n",
              "</div>\n",
              "      <button class=\"colab-df-convert\" onclick=\"convertToInteractive('df-c925b4f6-337d-433c-82fc-18a2086c9287')\"\n",
              "              title=\"Convert this dataframe to an interactive table.\"\n",
              "              style=\"display:none;\">\n",
              "        \n",
              "  <svg xmlns=\"http://www.w3.org/2000/svg\" height=\"24px\"viewBox=\"0 0 24 24\"\n",
              "       width=\"24px\">\n",
              "    <path d=\"M0 0h24v24H0V0z\" fill=\"none\"/>\n",
              "    <path d=\"M18.56 5.44l.94 2.06.94-2.06 2.06-.94-2.06-.94-.94-2.06-.94 2.06-2.06.94zm-11 1L8.5 8.5l.94-2.06 2.06-.94-2.06-.94L8.5 2.5l-.94 2.06-2.06.94zm10 10l.94 2.06.94-2.06 2.06-.94-2.06-.94-.94-2.06-.94 2.06-2.06.94z\"/><path d=\"M17.41 7.96l-1.37-1.37c-.4-.4-.92-.59-1.43-.59-.52 0-1.04.2-1.43.59L10.3 9.45l-7.72 7.72c-.78.78-.78 2.05 0 2.83L4 21.41c.39.39.9.59 1.41.59.51 0 1.02-.2 1.41-.59l7.78-7.78 2.81-2.81c.8-.78.8-2.07 0-2.86zM5.41 20L4 18.59l7.72-7.72 1.47 1.35L5.41 20z\"/>\n",
              "  </svg>\n",
              "      </button>\n",
              "      \n",
              "  <style>\n",
              "    .colab-df-container {\n",
              "      display:flex;\n",
              "      flex-wrap:wrap;\n",
              "      gap: 12px;\n",
              "    }\n",
              "\n",
              "    .colab-df-convert {\n",
              "      background-color: #E8F0FE;\n",
              "      border: none;\n",
              "      border-radius: 50%;\n",
              "      cursor: pointer;\n",
              "      display: none;\n",
              "      fill: #1967D2;\n",
              "      height: 32px;\n",
              "      padding: 0 0 0 0;\n",
              "      width: 32px;\n",
              "    }\n",
              "\n",
              "    .colab-df-convert:hover {\n",
              "      background-color: #E2EBFA;\n",
              "      box-shadow: 0px 1px 2px rgba(60, 64, 67, 0.3), 0px 1px 3px 1px rgba(60, 64, 67, 0.15);\n",
              "      fill: #174EA6;\n",
              "    }\n",
              "\n",
              "    [theme=dark] .colab-df-convert {\n",
              "      background-color: #3B4455;\n",
              "      fill: #D2E3FC;\n",
              "    }\n",
              "\n",
              "    [theme=dark] .colab-df-convert:hover {\n",
              "      background-color: #434B5C;\n",
              "      box-shadow: 0px 1px 3px 1px rgba(0, 0, 0, 0.15);\n",
              "      filter: drop-shadow(0px 1px 2px rgba(0, 0, 0, 0.3));\n",
              "      fill: #FFFFFF;\n",
              "    }\n",
              "  </style>\n",
              "\n",
              "      <script>\n",
              "        const buttonEl =\n",
              "          document.querySelector('#df-c925b4f6-337d-433c-82fc-18a2086c9287 button.colab-df-convert');\n",
              "        buttonEl.style.display =\n",
              "          google.colab.kernel.accessAllowed ? 'block' : 'none';\n",
              "\n",
              "        async function convertToInteractive(key) {\n",
              "          const element = document.querySelector('#df-c925b4f6-337d-433c-82fc-18a2086c9287');\n",
              "          const dataTable =\n",
              "            await google.colab.kernel.invokeFunction('convertToInteractive',\n",
              "                                                     [key], {});\n",
              "          if (!dataTable) return;\n",
              "\n",
              "          const docLinkHtml = 'Like what you see? Visit the ' +\n",
              "            '<a target=\"_blank\" href=https://colab.research.google.com/notebooks/data_table.ipynb>data table notebook</a>'\n",
              "            + ' to learn more about interactive tables.';\n",
              "          element.innerHTML = '';\n",
              "          dataTable['output_type'] = 'display_data';\n",
              "          await google.colab.output.renderOutput(dataTable, element);\n",
              "          const docLink = document.createElement('div');\n",
              "          docLink.innerHTML = docLinkHtml;\n",
              "          element.appendChild(docLink);\n",
              "        }\n",
              "      </script>\n",
              "    </div>\n",
              "  </div>\n",
              "  "
            ]
          },
          "metadata": {},
          "execution_count": 2
        }
      ]
    },
    {
      "cell_type": "code",
      "source": [
        "data.rename(columns={0: 'equipo', 1: 'time', 2: 'smt', 3:'num'}, inplace=True)"
      ],
      "metadata": {
        "id": "w8g3wsHlcp1-"
      },
      "execution_count": 3,
      "outputs": []
    },
    {
      "cell_type": "markdown",
      "source": [
        "# Seleccionamos los datos del modelo 1"
      ],
      "metadata": {
        "id": "5XJYUg9GcxZy"
      }
    },
    {
      "cell_type": "code",
      "source": [
        "mod1_df=data[data['equipo'].str.contains('ETH_L2_AirCo|ETH_L2_Dpltz_P_Caixa')]\n"
      ],
      "metadata": {
        "id": "RNs6wYpvcxEU"
      },
      "execution_count": 4,
      "outputs": []
    },
    {
      "cell_type": "code",
      "source": [
        "mod1_df['equipo'].value_counts()"
      ],
      "metadata": {
        "id": "GtjHlJaec_FD",
        "colab": {
          "base_uri": "https://localhost:8080/"
        },
        "outputId": "7b0bf22c-4540-45ae-8b65-ab4f24a30f4d"
      },
      "execution_count": null,
      "outputs": [
        {
          "output_type": "execute_result",
          "data": {
            "text/plain": [
              "ETH_L2_AirCo_Pro_Tot        515090\n",
              "ETH_L2_AirCo_Rej_Tot         67180\n",
              "ETH_L2_AirCo_REJ_AIRC        35755\n",
              "ETH_L2_Dpltz_P_Caixa         27877\n",
              "ETH_L2_AirCo_REJ_ESPUMA      14513\n",
              "ETH_L2_AirCo_REJ_TAMPA        3761\n",
              "ETH_L2_AirCo_REJ_MAT_SUS      3169\n",
              "ETH_L2_AirCo_REJ_SAM           214\n",
              "ETH_L2_AirCo_REJ_COR             5\n",
              "Name: equipo, dtype: int64"
            ]
          },
          "metadata": {},
          "execution_count": 5
        }
      ]
    },
    {
      "cell_type": "code",
      "source": [
        "import pickle\n",
        "mod1_df.to_pickle('mod1_subset.pkl')"
      ],
      "metadata": {
        "id": "MD_NSoyqdCOA"
      },
      "execution_count": null,
      "outputs": []
    },
    {
      "cell_type": "markdown",
      "source": [
        "# Seleccionamos variables para modelo 2"
      ],
      "metadata": {
        "id": "VHq05hl6dRFf"
      }
    },
    {
      "cell_type": "code",
      "source": [
        "mod2= ['ETH_L2_Ench_B120_PIT', 'ETH_L2_Med_T_C2Mix','ETH_L2_Med_V_C2Mix','ETH_L2_Mixer_KB_103_QIT',\n",
        "      'ETH_L2_Mixer_KB_121_TT','ETH_L2_Mixer_REC_ATV','ETH_L3_Ench_VELOCIDADE','ETH_L3_Med_T_C2Mix',\n",
        "      'ETH_L3_Med_V_C2Mix','ETH_L3_Mixer_KB_103_QIT','ETH_L3_Mixer_KB_121_TT','ETH_L3_Mixer_KB_140_TT',\n",
        "      'ETH_L4_MED_T_C2MIX','ETH_L4_MED_V_C2MIX','ETH_L4_MIXER_KB_841_QIT','ETH_Util_Vazao_FIT16_TOT',\n",
        "      'ETH_Util_Vazao_FIT17_TOT']\n",
        "mod2_mask= data['equipo'].str.contains('|'.join(mod2))\n",
        "mod2_df= data[mod2_mask]\n",
        "mod2_df['equipo'].value_counts()"
      ],
      "metadata": {
        "colab": {
          "base_uri": "https://localhost:8080/"
        },
        "id": "xFQxrXAKdUf7",
        "outputId": "2e40d414-0838-4963-cbe7-1824cfce4cdb"
      },
      "execution_count": 5,
      "outputs": [
        {
          "output_type": "execute_result",
          "data": {
            "text/plain": [
              "ETH_L3_Mixer_KB_121_TT      1549803\n",
              "ETH_Util_Vazao_FIT16_TOT    1457861\n",
              "ETH_L3_Mixer_KB_103_QIT      646574\n",
              "ETH_L4_MIXER_KB_841_QIT      596482\n",
              "ETH_L2_Mixer_KB_103_QIT      532908\n",
              "ETH_L3_Med_V_C2Mix           493690\n",
              "ETH_L2_Ench_B120_PIT         117147\n",
              "ETH_L4_MED_V_C2MIX           100534\n",
              "ETH_L3_Ench_VELOCIDADE        33962\n",
              "ETH_L2_Mixer_KB_121_TT         3885\n",
              "ETH_L3_Med_T_C2Mix             2875\n",
              "ETH_L3_Mixer_KB_140_TT         2838\n",
              "ETH_L2_Med_T_C2Mix             2162\n",
              "ETH_L4_MED_T_C2MIX              150\n",
              "ETH_L2_Med_V_C2Mix               54\n",
              "ETH_L2_Mixer_REC_ATV             28\n",
              "ETH_Util_Vazao_FIT17_TOT         16\n",
              "Name: equipo, dtype: int64"
            ]
          },
          "metadata": {},
          "execution_count": 5
        }
      ]
    },
    {
      "cell_type": "code",
      "source": [
        "mod2_df.info()"
      ],
      "metadata": {
        "colab": {
          "base_uri": "https://localhost:8080/"
        },
        "id": "wPFI3KCCn6z_",
        "outputId": "c43d5426-aea8-4926-e1d4-4b7affc1b9c2"
      },
      "execution_count": 8,
      "outputs": [
        {
          "output_type": "stream",
          "name": "stdout",
          "text": [
            "<class 'pandas.core.frame.DataFrame'>\n",
            "Int64Index: 5540969 entries, 1309489 to 7843044\n",
            "Data columns (total 4 columns):\n",
            " #   Column  Dtype \n",
            "---  ------  ----- \n",
            " 0   equipo  object\n",
            " 1   time    object\n",
            " 2   smt     int64 \n",
            " 3   num     object\n",
            "dtypes: int64(1), object(3)\n",
            "memory usage: 211.4+ MB\n"
          ]
        }
      ]
    },
    {
      "cell_type": "code",
      "source": [
        "mod2_df.sample(n=15, random_state=21)"
      ],
      "metadata": {
        "colab": {
          "base_uri": "https://localhost:8080/",
          "height": 519
        },
        "id": "eZIZrVv4qacU",
        "outputId": "dcdf6537-278c-4f78-b523-8bb0c39cdf10"
      },
      "execution_count": 6,
      "outputs": [
        {
          "output_type": "execute_result",
          "data": {
            "text/plain": [
              "                           equipo                     time  smt        num\n",
              "6385157    ETH_L3_Mixer_KB_121_TT  2023-01-02 03:20:47.000    0   21,19869\n",
              "6515633    ETH_L3_Mixer_KB_121_TT  2023-01-03 22:22:27.000    0   13,39947\n",
              "5152083   ETH_L2_Mixer_KB_103_QIT  2023-01-04 22:13:23.000    0   7,538522\n",
              "5617964    ETH_L3_Ench_VELOCIDADE  2023-01-05 23:34:42.000    0      31100\n",
              "5283741   ETH_L2_Mixer_KB_103_QIT  2023-01-10 11:26:20.000    0   7,699274\n",
              "6329749    ETH_L3_Mixer_KB_121_TT  2023-01-01 11:21:36.000    0   18,72553\n",
              "3242473  ETH_Util_Vazao_FIT16_TOT  2023-01-14 07:48:10.000    0    660,009\n",
              "7789906    ETH_L3_Mixer_KB_121_TT  2023-01-19 09:29:40.000    0    27,7006\n",
              "4421732   ETH_L4_MIXER_KB_841_QIT  2023-01-10 12:05:28.000    0   3,109395\n",
              "7551660    ETH_L3_Mixer_KB_121_TT  2023-01-16 13:16:55.000    0   25,99747\n",
              "7083763    ETH_L3_Mixer_KB_121_TT  2023-01-10 20:42:35.000    0   23,73822\n",
              "3480427  ETH_Util_Vazao_FIT16_TOT  2023-01-17 05:07:27.000    0   2953,622\n",
              "4514106   ETH_L4_MIXER_KB_841_QIT  2023-01-13 07:56:27.000    0  0,3647955\n",
              "2349009  ETH_Util_Vazao_FIT16_TOT  2023-01-03 16:32:30.000    0     6471,3\n",
              "4333541   ETH_L4_MIXER_KB_841_QIT  2023-01-07 21:27:00.000    0  0,4012763"
            ],
            "text/html": [
              "\n",
              "  <div id=\"df-eea2ff80-230e-4f14-99eb-e98f37e7ea00\">\n",
              "    <div class=\"colab-df-container\">\n",
              "      <div>\n",
              "<style scoped>\n",
              "    .dataframe tbody tr th:only-of-type {\n",
              "        vertical-align: middle;\n",
              "    }\n",
              "\n",
              "    .dataframe tbody tr th {\n",
              "        vertical-align: top;\n",
              "    }\n",
              "\n",
              "    .dataframe thead th {\n",
              "        text-align: right;\n",
              "    }\n",
              "</style>\n",
              "<table border=\"1\" class=\"dataframe\">\n",
              "  <thead>\n",
              "    <tr style=\"text-align: right;\">\n",
              "      <th></th>\n",
              "      <th>equipo</th>\n",
              "      <th>time</th>\n",
              "      <th>smt</th>\n",
              "      <th>num</th>\n",
              "    </tr>\n",
              "  </thead>\n",
              "  <tbody>\n",
              "    <tr>\n",
              "      <th>6385157</th>\n",
              "      <td>ETH_L3_Mixer_KB_121_TT</td>\n",
              "      <td>2023-01-02 03:20:47.000</td>\n",
              "      <td>0</td>\n",
              "      <td>21,19869</td>\n",
              "    </tr>\n",
              "    <tr>\n",
              "      <th>6515633</th>\n",
              "      <td>ETH_L3_Mixer_KB_121_TT</td>\n",
              "      <td>2023-01-03 22:22:27.000</td>\n",
              "      <td>0</td>\n",
              "      <td>13,39947</td>\n",
              "    </tr>\n",
              "    <tr>\n",
              "      <th>5152083</th>\n",
              "      <td>ETH_L2_Mixer_KB_103_QIT</td>\n",
              "      <td>2023-01-04 22:13:23.000</td>\n",
              "      <td>0</td>\n",
              "      <td>7,538522</td>\n",
              "    </tr>\n",
              "    <tr>\n",
              "      <th>5617964</th>\n",
              "      <td>ETH_L3_Ench_VELOCIDADE</td>\n",
              "      <td>2023-01-05 23:34:42.000</td>\n",
              "      <td>0</td>\n",
              "      <td>31100</td>\n",
              "    </tr>\n",
              "    <tr>\n",
              "      <th>5283741</th>\n",
              "      <td>ETH_L2_Mixer_KB_103_QIT</td>\n",
              "      <td>2023-01-10 11:26:20.000</td>\n",
              "      <td>0</td>\n",
              "      <td>7,699274</td>\n",
              "    </tr>\n",
              "    <tr>\n",
              "      <th>6329749</th>\n",
              "      <td>ETH_L3_Mixer_KB_121_TT</td>\n",
              "      <td>2023-01-01 11:21:36.000</td>\n",
              "      <td>0</td>\n",
              "      <td>18,72553</td>\n",
              "    </tr>\n",
              "    <tr>\n",
              "      <th>3242473</th>\n",
              "      <td>ETH_Util_Vazao_FIT16_TOT</td>\n",
              "      <td>2023-01-14 07:48:10.000</td>\n",
              "      <td>0</td>\n",
              "      <td>660,009</td>\n",
              "    </tr>\n",
              "    <tr>\n",
              "      <th>7789906</th>\n",
              "      <td>ETH_L3_Mixer_KB_121_TT</td>\n",
              "      <td>2023-01-19 09:29:40.000</td>\n",
              "      <td>0</td>\n",
              "      <td>27,7006</td>\n",
              "    </tr>\n",
              "    <tr>\n",
              "      <th>4421732</th>\n",
              "      <td>ETH_L4_MIXER_KB_841_QIT</td>\n",
              "      <td>2023-01-10 12:05:28.000</td>\n",
              "      <td>0</td>\n",
              "      <td>3,109395</td>\n",
              "    </tr>\n",
              "    <tr>\n",
              "      <th>7551660</th>\n",
              "      <td>ETH_L3_Mixer_KB_121_TT</td>\n",
              "      <td>2023-01-16 13:16:55.000</td>\n",
              "      <td>0</td>\n",
              "      <td>25,99747</td>\n",
              "    </tr>\n",
              "    <tr>\n",
              "      <th>7083763</th>\n",
              "      <td>ETH_L3_Mixer_KB_121_TT</td>\n",
              "      <td>2023-01-10 20:42:35.000</td>\n",
              "      <td>0</td>\n",
              "      <td>23,73822</td>\n",
              "    </tr>\n",
              "    <tr>\n",
              "      <th>3480427</th>\n",
              "      <td>ETH_Util_Vazao_FIT16_TOT</td>\n",
              "      <td>2023-01-17 05:07:27.000</td>\n",
              "      <td>0</td>\n",
              "      <td>2953,622</td>\n",
              "    </tr>\n",
              "    <tr>\n",
              "      <th>4514106</th>\n",
              "      <td>ETH_L4_MIXER_KB_841_QIT</td>\n",
              "      <td>2023-01-13 07:56:27.000</td>\n",
              "      <td>0</td>\n",
              "      <td>0,3647955</td>\n",
              "    </tr>\n",
              "    <tr>\n",
              "      <th>2349009</th>\n",
              "      <td>ETH_Util_Vazao_FIT16_TOT</td>\n",
              "      <td>2023-01-03 16:32:30.000</td>\n",
              "      <td>0</td>\n",
              "      <td>6471,3</td>\n",
              "    </tr>\n",
              "    <tr>\n",
              "      <th>4333541</th>\n",
              "      <td>ETH_L4_MIXER_KB_841_QIT</td>\n",
              "      <td>2023-01-07 21:27:00.000</td>\n",
              "      <td>0</td>\n",
              "      <td>0,4012763</td>\n",
              "    </tr>\n",
              "  </tbody>\n",
              "</table>\n",
              "</div>\n",
              "      <button class=\"colab-df-convert\" onclick=\"convertToInteractive('df-eea2ff80-230e-4f14-99eb-e98f37e7ea00')\"\n",
              "              title=\"Convert this dataframe to an interactive table.\"\n",
              "              style=\"display:none;\">\n",
              "        \n",
              "  <svg xmlns=\"http://www.w3.org/2000/svg\" height=\"24px\"viewBox=\"0 0 24 24\"\n",
              "       width=\"24px\">\n",
              "    <path d=\"M0 0h24v24H0V0z\" fill=\"none\"/>\n",
              "    <path d=\"M18.56 5.44l.94 2.06.94-2.06 2.06-.94-2.06-.94-.94-2.06-.94 2.06-2.06.94zm-11 1L8.5 8.5l.94-2.06 2.06-.94-2.06-.94L8.5 2.5l-.94 2.06-2.06.94zm10 10l.94 2.06.94-2.06 2.06-.94-2.06-.94-.94-2.06-.94 2.06-2.06.94z\"/><path d=\"M17.41 7.96l-1.37-1.37c-.4-.4-.92-.59-1.43-.59-.52 0-1.04.2-1.43.59L10.3 9.45l-7.72 7.72c-.78.78-.78 2.05 0 2.83L4 21.41c.39.39.9.59 1.41.59.51 0 1.02-.2 1.41-.59l7.78-7.78 2.81-2.81c.8-.78.8-2.07 0-2.86zM5.41 20L4 18.59l7.72-7.72 1.47 1.35L5.41 20z\"/>\n",
              "  </svg>\n",
              "      </button>\n",
              "      \n",
              "  <style>\n",
              "    .colab-df-container {\n",
              "      display:flex;\n",
              "      flex-wrap:wrap;\n",
              "      gap: 12px;\n",
              "    }\n",
              "\n",
              "    .colab-df-convert {\n",
              "      background-color: #E8F0FE;\n",
              "      border: none;\n",
              "      border-radius: 50%;\n",
              "      cursor: pointer;\n",
              "      display: none;\n",
              "      fill: #1967D2;\n",
              "      height: 32px;\n",
              "      padding: 0 0 0 0;\n",
              "      width: 32px;\n",
              "    }\n",
              "\n",
              "    .colab-df-convert:hover {\n",
              "      background-color: #E2EBFA;\n",
              "      box-shadow: 0px 1px 2px rgba(60, 64, 67, 0.3), 0px 1px 3px 1px rgba(60, 64, 67, 0.15);\n",
              "      fill: #174EA6;\n",
              "    }\n",
              "\n",
              "    [theme=dark] .colab-df-convert {\n",
              "      background-color: #3B4455;\n",
              "      fill: #D2E3FC;\n",
              "    }\n",
              "\n",
              "    [theme=dark] .colab-df-convert:hover {\n",
              "      background-color: #434B5C;\n",
              "      box-shadow: 0px 1px 3px 1px rgba(0, 0, 0, 0.15);\n",
              "      filter: drop-shadow(0px 1px 2px rgba(0, 0, 0, 0.3));\n",
              "      fill: #FFFFFF;\n",
              "    }\n",
              "  </style>\n",
              "\n",
              "      <script>\n",
              "        const buttonEl =\n",
              "          document.querySelector('#df-eea2ff80-230e-4f14-99eb-e98f37e7ea00 button.colab-df-convert');\n",
              "        buttonEl.style.display =\n",
              "          google.colab.kernel.accessAllowed ? 'block' : 'none';\n",
              "\n",
              "        async function convertToInteractive(key) {\n",
              "          const element = document.querySelector('#df-eea2ff80-230e-4f14-99eb-e98f37e7ea00');\n",
              "          const dataTable =\n",
              "            await google.colab.kernel.invokeFunction('convertToInteractive',\n",
              "                                                     [key], {});\n",
              "          if (!dataTable) return;\n",
              "\n",
              "          const docLinkHtml = 'Like what you see? Visit the ' +\n",
              "            '<a target=\"_blank\" href=https://colab.research.google.com/notebooks/data_table.ipynb>data table notebook</a>'\n",
              "            + ' to learn more about interactive tables.';\n",
              "          element.innerHTML = '';\n",
              "          dataTable['output_type'] = 'display_data';\n",
              "          await google.colab.output.renderOutput(dataTable, element);\n",
              "          const docLink = document.createElement('div');\n",
              "          docLink.innerHTML = docLinkHtml;\n",
              "          element.appendChild(docLink);\n",
              "        }\n",
              "      </script>\n",
              "    </div>\n",
              "  </div>\n",
              "  "
            ]
          },
          "metadata": {},
          "execution_count": 6
        }
      ]
    },
    {
      "cell_type": "code",
      "source": [
        "import pickle\n",
        "mod2_df.to_pickle('mod2_subset.pkl')"
      ],
      "metadata": {
        "id": "6w-7P6-OdZEN"
      },
      "execution_count": null,
      "outputs": []
    }
  ]
}